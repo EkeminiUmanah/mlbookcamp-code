{
 "cells": [
  {
   "cell_type": "code",
   "id": "initial_id",
   "metadata": {
    "collapsed": true,
    "ExecuteTime": {
     "end_time": "2025-10-06T13:01:49.178376Z",
     "start_time": "2025-10-06T13:01:49.173549Z"
    }
   },
   "source": [
    "import pandas as pd\n",
    "import numpy as np\n",
    "import matplotlib.pyplot as plt"
   ],
   "outputs": [],
   "execution_count": 1
  },
  {
   "metadata": {
    "ExecuteTime": {
     "end_time": "2025-10-06T13:01:54.740016Z",
     "start_time": "2025-10-06T13:01:49.184868Z"
    }
   },
   "cell_type": "code",
   "source": [
    "df_full = pd.read_csv('https://raw.githubusercontent.com/alexeygrigorev/datasets/master/car_fuel_efficiency.csv')\n",
    "df_full.head()"
   ],
   "id": "e68797808c7bcf4d",
   "outputs": [
    {
     "data": {
      "text/plain": [
       "   engine_displacement  num_cylinders  horsepower  vehicle_weight  \\\n",
       "0                  170            3.0       159.0     3413.433759   \n",
       "1                  130            5.0        97.0     3149.664934   \n",
       "2                  170            NaN        78.0     3079.038997   \n",
       "3                  220            4.0         NaN     2542.392402   \n",
       "4                  210            1.0       140.0     3460.870990   \n",
       "\n",
       "   acceleration  model_year  origin fuel_type         drivetrain  num_doors  \\\n",
       "0          17.7        2003  Europe  Gasoline    All-wheel drive        0.0   \n",
       "1          17.8        2007     USA  Gasoline  Front-wheel drive        0.0   \n",
       "2          15.1        2018  Europe  Gasoline  Front-wheel drive        0.0   \n",
       "3          20.2        2009     USA    Diesel    All-wheel drive        2.0   \n",
       "4          14.4        2009  Europe  Gasoline    All-wheel drive        2.0   \n",
       "\n",
       "   fuel_efficiency_mpg  \n",
       "0            13.231729  \n",
       "1            13.688217  \n",
       "2            14.246341  \n",
       "3            16.912736  \n",
       "4            12.488369  "
      ],
      "text/html": [
       "<div>\n",
       "<style scoped>\n",
       "    .dataframe tbody tr th:only-of-type {\n",
       "        vertical-align: middle;\n",
       "    }\n",
       "\n",
       "    .dataframe tbody tr th {\n",
       "        vertical-align: top;\n",
       "    }\n",
       "\n",
       "    .dataframe thead th {\n",
       "        text-align: right;\n",
       "    }\n",
       "</style>\n",
       "<table border=\"1\" class=\"dataframe\">\n",
       "  <thead>\n",
       "    <tr style=\"text-align: right;\">\n",
       "      <th></th>\n",
       "      <th>engine_displacement</th>\n",
       "      <th>num_cylinders</th>\n",
       "      <th>horsepower</th>\n",
       "      <th>vehicle_weight</th>\n",
       "      <th>acceleration</th>\n",
       "      <th>model_year</th>\n",
       "      <th>origin</th>\n",
       "      <th>fuel_type</th>\n",
       "      <th>drivetrain</th>\n",
       "      <th>num_doors</th>\n",
       "      <th>fuel_efficiency_mpg</th>\n",
       "    </tr>\n",
       "  </thead>\n",
       "  <tbody>\n",
       "    <tr>\n",
       "      <th>0</th>\n",
       "      <td>170</td>\n",
       "      <td>3.0</td>\n",
       "      <td>159.0</td>\n",
       "      <td>3413.433759</td>\n",
       "      <td>17.7</td>\n",
       "      <td>2003</td>\n",
       "      <td>Europe</td>\n",
       "      <td>Gasoline</td>\n",
       "      <td>All-wheel drive</td>\n",
       "      <td>0.0</td>\n",
       "      <td>13.231729</td>\n",
       "    </tr>\n",
       "    <tr>\n",
       "      <th>1</th>\n",
       "      <td>130</td>\n",
       "      <td>5.0</td>\n",
       "      <td>97.0</td>\n",
       "      <td>3149.664934</td>\n",
       "      <td>17.8</td>\n",
       "      <td>2007</td>\n",
       "      <td>USA</td>\n",
       "      <td>Gasoline</td>\n",
       "      <td>Front-wheel drive</td>\n",
       "      <td>0.0</td>\n",
       "      <td>13.688217</td>\n",
       "    </tr>\n",
       "    <tr>\n",
       "      <th>2</th>\n",
       "      <td>170</td>\n",
       "      <td>NaN</td>\n",
       "      <td>78.0</td>\n",
       "      <td>3079.038997</td>\n",
       "      <td>15.1</td>\n",
       "      <td>2018</td>\n",
       "      <td>Europe</td>\n",
       "      <td>Gasoline</td>\n",
       "      <td>Front-wheel drive</td>\n",
       "      <td>0.0</td>\n",
       "      <td>14.246341</td>\n",
       "    </tr>\n",
       "    <tr>\n",
       "      <th>3</th>\n",
       "      <td>220</td>\n",
       "      <td>4.0</td>\n",
       "      <td>NaN</td>\n",
       "      <td>2542.392402</td>\n",
       "      <td>20.2</td>\n",
       "      <td>2009</td>\n",
       "      <td>USA</td>\n",
       "      <td>Diesel</td>\n",
       "      <td>All-wheel drive</td>\n",
       "      <td>2.0</td>\n",
       "      <td>16.912736</td>\n",
       "    </tr>\n",
       "    <tr>\n",
       "      <th>4</th>\n",
       "      <td>210</td>\n",
       "      <td>1.0</td>\n",
       "      <td>140.0</td>\n",
       "      <td>3460.870990</td>\n",
       "      <td>14.4</td>\n",
       "      <td>2009</td>\n",
       "      <td>Europe</td>\n",
       "      <td>Gasoline</td>\n",
       "      <td>All-wheel drive</td>\n",
       "      <td>2.0</td>\n",
       "      <td>12.488369</td>\n",
       "    </tr>\n",
       "  </tbody>\n",
       "</table>\n",
       "</div>"
      ]
     },
     "execution_count": 2,
     "metadata": {},
     "output_type": "execute_result"
    }
   ],
   "execution_count": 2
  },
  {
   "metadata": {
    "ExecuteTime": {
     "end_time": "2025-10-06T13:01:54.755102Z",
     "start_time": "2025-10-06T13:01:54.750180Z"
    }
   },
   "cell_type": "code",
   "source": [
    "cols = ['engine_displacement','horsepower','vehicle_weight','model_year','fuel_efficiency_mpg']\n",
    "cols"
   ],
   "id": "87d22520aeabfda",
   "outputs": [
    {
     "data": {
      "text/plain": [
       "['engine_displacement',\n",
       " 'horsepower',\n",
       " 'vehicle_weight',\n",
       " 'model_year',\n",
       " 'fuel_efficiency_mpg']"
      ]
     },
     "execution_count": 3,
     "metadata": {},
     "output_type": "execute_result"
    }
   ],
   "execution_count": 3
  },
  {
   "metadata": {
    "ExecuteTime": {
     "end_time": "2025-10-06T13:01:54.776815Z",
     "start_time": "2025-10-06T13:01:54.767723Z"
    }
   },
   "cell_type": "code",
   "source": [
    "df = df_full[cols].copy()\n",
    "df.head(2)"
   ],
   "id": "187a61c110b5e97e",
   "outputs": [
    {
     "data": {
      "text/plain": [
       "   engine_displacement  horsepower  vehicle_weight  model_year  \\\n",
       "0                  170       159.0     3413.433759        2003   \n",
       "1                  130        97.0     3149.664934        2007   \n",
       "\n",
       "   fuel_efficiency_mpg  \n",
       "0            13.231729  \n",
       "1            13.688217  "
      ],
      "text/html": [
       "<div>\n",
       "<style scoped>\n",
       "    .dataframe tbody tr th:only-of-type {\n",
       "        vertical-align: middle;\n",
       "    }\n",
       "\n",
       "    .dataframe tbody tr th {\n",
       "        vertical-align: top;\n",
       "    }\n",
       "\n",
       "    .dataframe thead th {\n",
       "        text-align: right;\n",
       "    }\n",
       "</style>\n",
       "<table border=\"1\" class=\"dataframe\">\n",
       "  <thead>\n",
       "    <tr style=\"text-align: right;\">\n",
       "      <th></th>\n",
       "      <th>engine_displacement</th>\n",
       "      <th>horsepower</th>\n",
       "      <th>vehicle_weight</th>\n",
       "      <th>model_year</th>\n",
       "      <th>fuel_efficiency_mpg</th>\n",
       "    </tr>\n",
       "  </thead>\n",
       "  <tbody>\n",
       "    <tr>\n",
       "      <th>0</th>\n",
       "      <td>170</td>\n",
       "      <td>159.0</td>\n",
       "      <td>3413.433759</td>\n",
       "      <td>2003</td>\n",
       "      <td>13.231729</td>\n",
       "    </tr>\n",
       "    <tr>\n",
       "      <th>1</th>\n",
       "      <td>130</td>\n",
       "      <td>97.0</td>\n",
       "      <td>3149.664934</td>\n",
       "      <td>2007</td>\n",
       "      <td>13.688217</td>\n",
       "    </tr>\n",
       "  </tbody>\n",
       "</table>\n",
       "</div>"
      ]
     },
     "execution_count": 4,
     "metadata": {},
     "output_type": "execute_result"
    }
   ],
   "execution_count": 4
  },
  {
   "metadata": {},
   "cell_type": "markdown",
   "source": "## EDA",
   "id": "90bae7308a0405ca"
  },
  {
   "metadata": {
    "ExecuteTime": {
     "end_time": "2025-10-06T13:01:54.798364Z",
     "start_time": "2025-10-06T13:01:54.793679Z"
    }
   },
   "cell_type": "code",
   "source": [
    "#no of rows\n",
    "len(df)"
   ],
   "id": "5b3924ea56258e78",
   "outputs": [
    {
     "data": {
      "text/plain": [
       "9704"
      ]
     },
     "execution_count": 5,
     "metadata": {},
     "output_type": "execute_result"
    }
   ],
   "execution_count": 5
  },
  {
   "metadata": {},
   "cell_type": "markdown",
   "source": "### Question 1. Missing values",
   "id": "d08d20863e91d4a8"
  },
  {
   "metadata": {
    "ExecuteTime": {
     "end_time": "2025-10-06T13:01:54.817071Z",
     "start_time": "2025-10-06T13:01:54.811804Z"
    }
   },
   "cell_type": "code",
   "source": [
    "#missing values\n",
    "df.isna().sum()"
   ],
   "id": "fadef896172408e0",
   "outputs": [
    {
     "data": {
      "text/plain": [
       "engine_displacement      0\n",
       "horsepower             708\n",
       "vehicle_weight           0\n",
       "model_year               0\n",
       "fuel_efficiency_mpg      0\n",
       "dtype: int64"
      ]
     },
     "execution_count": 6,
     "metadata": {},
     "output_type": "execute_result"
    }
   ],
   "execution_count": 6
  },
  {
   "metadata": {
    "ExecuteTime": {
     "end_time": "2025-10-06T13:01:54.836824Z",
     "start_time": "2025-10-06T13:01:54.829731Z"
    }
   },
   "cell_type": "code",
   "source": "df['fuel_efficiency_mpg'].describe()",
   "id": "b4549687e6149b4",
   "outputs": [
    {
     "data": {
      "text/plain": [
       "count    9704.000000\n",
       "mean       14.985243\n",
       "std         2.556468\n",
       "min         6.200971\n",
       "25%        13.267459\n",
       "50%        15.006037\n",
       "75%        16.707965\n",
       "max        25.967222\n",
       "Name: fuel_efficiency_mpg, dtype: float64"
      ]
     },
     "execution_count": 7,
     "metadata": {},
     "output_type": "execute_result"
    }
   ],
   "execution_count": 7
  },
  {
   "metadata": {},
   "cell_type": "markdown",
   "source": "### Fuel Efficiency",
   "id": "e2a2ac25ea2eb307"
  },
  {
   "metadata": {
    "ExecuteTime": {
     "end_time": "2025-10-06T13:01:54.986181Z",
     "start_time": "2025-10-06T13:01:54.845837Z"
    }
   },
   "cell_type": "code",
   "source": [
    "# histogram\n",
    "plt.hist(df['fuel_efficiency_mpg'], bins=20, edgecolor='black')\n",
    "plt.xlabel(\"Fuel Efficiency (mpg)\")\n",
    "plt.ylabel(\"Frequency\")\n",
    "plt.title(\"Distribution of Fuel Efficiency (mpg)\")\n",
    "plt.show()"
   ],
   "id": "eb6102cc19203e43",
   "outputs": [
    {
     "data": {
      "text/plain": [
       "<Figure size 640x480 with 1 Axes>"
      ],
      "image/png": "[encoded data removed]"
     },
     "metadata": {},
     "output_type": "display_data"
    }
   ],
   "execution_count": 8
  },
  {
   "metadata": {
    "ExecuteTime": {
     "end_time": "2025-10-06T13:01:55.078549Z",
     "start_time": "2025-10-06T13:01:54.991533Z"
    }
   },
   "cell_type": "code",
   "source": [
    "# boxplot\n",
    "df['fuel_efficiency_mpg'].plot(kind='box', title=\"Boxplot of fuel_efficiency_mpg\")\n",
    "plt.show()"
   ],
   "id": "a225867c259d1dd6",
   "outputs": [
    {
     "data": {
      "text/plain": [
       "<Figure size 640x480 with 1 Axes>"
      ],
      "image/png": "[encoded data removed]"
     },
     "metadata": {},
     "output_type": "display_data"
    }
   ],
   "execution_count": 9
  },
  {
   "metadata": {},
   "cell_type": "markdown",
   "source": "### Question 2. Median for horse power",
   "id": "fec6a9d09b646ce1"
  },
  {
   "metadata": {
    "ExecuteTime": {
     "end_time": "2025-10-06T13:01:55.089841Z",
     "start_time": "2025-10-06T13:01:55.085476Z"
    }
   },
   "cell_type": "code",
   "source": " df['horsepower'].median()",
   "id": "6f932b7ad4fd2aa5",
   "outputs": [
    {
     "data": {
      "text/plain": [
       "149.0"
      ]
     },
     "execution_count": 10,
     "metadata": {},
     "output_type": "execute_result"
    }
   ],
   "execution_count": 10
  },
  {
   "metadata": {
    "ExecuteTime": {
     "end_time": "2025-10-06T13:01:55.110402Z",
     "start_time": "2025-10-06T13:01:55.104653Z"
    }
   },
   "cell_type": "code",
   "source": "df['horsepower'].mode()[0]",
   "id": "8cfc97b2580d92e9",
   "outputs": [
    {
     "data": {
      "text/plain": [
       "np.float64(152.0)"
      ]
     },
     "execution_count": 11,
     "metadata": {},
     "output_type": "execute_result"
    }
   ],
   "execution_count": 11
  },
  {
   "metadata": {},
   "cell_type": "markdown",
   "source": "## Prepare and split the dataset",
   "id": "cb6bd7fe5ceb9f3b"
  },
  {
   "metadata": {
    "ExecuteTime": {
     "end_time": "2025-10-06T13:01:55.123191Z",
     "start_time": "2025-10-06T13:01:55.114317Z"
    }
   },
   "cell_type": "code",
   "source": [
    "def train_val_test_split(data, seed=42):\n",
    "    n = len(data)\n",
    "    idx = np.arange(n)\n",
    "    rng = np.random.RandomState(seed)\n",
    "    rng.shuffle(idx)\n",
    "\n",
    "    n_train = int(0.6*n)\n",
    "    n_val   = int(0.2*n)\n",
    "    n_test  = n - n_train - n_val\n",
    "\n",
    "    df_train = data.iloc[idx[:n_train]].reset_index(drop=True)\n",
    "    df_val   = data.iloc[idx[n_train:n_train+n_val]].reset_index(drop=True)\n",
    "    df_test  = data.iloc[idx[n_train+n_val:]].reset_index(drop=True)\n",
    "    return df_train, df_val, df_test"
   ],
   "id": "48951af7a77f6a7a",
   "outputs": [],
   "execution_count": 12
  },
  {
   "metadata": {
    "ExecuteTime": {
     "end_time": "2025-10-06T13:01:55.134778Z",
     "start_time": "2025-10-06T13:01:55.130740Z"
    }
   },
   "cell_type": "code",
   "source": [
    "#def prepare_X(df):\n",
    "   # X = df[['engine_displacement','horsepower','vehicle_weight',#'model_year']].values\n",
    "    # add bias\n",
    "    #ones = np.ones((X.shape[0], 1))\n",
    "    #return np.hstack([ones, X])\n",
    "\n",
    "\n",
    "def prepare_X(df):\n",
    "    X = df[['engine_displacement','horsepower','vehicle_weight','model_year']].values\n",
    "    # add bias\n",
    "    ones = np.ones((X.shape[0]))\n",
    "    return np.column_stack([ones, X])\n",
    "\n",
    "def rmse(y, y_pred):\n",
    "    return np.sqrt(np.mean((y - y_pred)**2))\n",
    "\n",
    "def train_linear_regression(X, y, r=0.0):\n",
    "    # ridge closed form: w = (X^T X + r*I)^-1 X^T y\n",
    "    XTX = X.T @ X\n",
    "    if r > 0:\n",
    "        XTX = XTX + r * np.eye(XTX.shape[0])\n",
    "    w = np.linalg.inv(XTX) @ X.T @ y\n",
    "    return w\n"
   ],
   "id": "25858f4e9666e423",
   "outputs": [],
   "execution_count": 13
  },
  {
   "metadata": {
    "ExecuteTime": {
     "end_time": "2025-10-06T13:01:55.144991Z",
     "start_time": "2025-10-06T13:01:55.139688Z"
    }
   },
   "cell_type": "code",
   "source": [
    "df_train, df_val, df_test = train_val_test_split(df, seed=42)\n",
    "\n",
    "y_train = df_train['fuel_efficiency_mpg'].values\n",
    "y_val   = df_val['fuel_efficiency_mpg'].values\n",
    "y_test  = df_test['fuel_efficiency_mpg'].values\n",
    "feature_cols = ['engine_displacement','horsepower','vehicle_weight','model_year']"
   ],
   "id": "ac30551e1167104b",
   "outputs": [],
   "execution_count": 14
  },
  {
   "metadata": {},
   "cell_type": "markdown",
   "source": "### Q3: handle missing values two ways and compare on validation",
   "id": "a5d5bd695c19734"
  },
  {
   "metadata": {
    "ExecuteTime": {
     "end_time": "2025-10-06T13:01:55.231992Z",
     "start_time": "2025-10-06T13:01:55.151987Z"
    }
   },
   "cell_type": "code",
   "source": [
    "# fill missing with 0\n",
    "\n",
    "Xtr0 = prepare_X(df_train.fillna(0))\n",
    "Xva0 = prepare_X(df_val.fillna(0))\n",
    "\n",
    "w0 = train_linear_regression(Xtr0, y_train, r=0.0)\n",
    "rmse0 = rmse(y_val, Xva0 @ w0)\n",
    "print(\"RMSE (fill 0):\", round(rmse0, 2))"
   ],
   "id": "109f5038f96315f7",
   "outputs": [
    {
     "name": "stdout",
     "output_type": "stream",
     "text": [
      "RMSE (fill 0): 0.52\n"
     ]
    }
   ],
   "execution_count": 15
  },
  {
   "metadata": {
    "ExecuteTime": {
     "end_time": "2025-10-06T13:01:55.247086Z",
     "start_time": "2025-10-06T13:01:55.237196Z"
    }
   },
   "cell_type": "code",
   "source": [
    "# fill missing with the train mean\n",
    "\n",
    "train_means = df_train[feature_cols].mean()\n",
    "\n",
    "df_train_mean = df_train.fillna(train_means)\n",
    "df_val_mean   = df_val.fillna(train_means)\n",
    "\n",
    "Xtrm = prepare_X(df_train_mean)\n",
    "Xvam = prepare_X(df_val_mean)\n",
    "\n",
    "wm = train_linear_regression(Xtrm, y_train, r=0.0)\n",
    "rmsem = rmse(y_val, Xvam @ wm)\n",
    "print(\"RMSE (fill train mean):\", round(rmsem, 2))\n"
   ],
   "id": "6ead7c2269cc91c",
   "outputs": [
    {
     "name": "stdout",
     "output_type": "stream",
     "text": [
      "RMSE (fill train mean): 0.46\n"
     ]
    }
   ],
   "execution_count": 16
  },
  {
   "metadata": {
    "ExecuteTime": {
     "end_time": "2025-10-06T13:01:55.264167Z",
     "start_time": "2025-10-06T13:01:55.258677Z"
    }
   },
   "cell_type": "code",
   "source": [
    "r0, rm = round(rmse0, 2), round(rmsem, 2)\n",
    "if r0 < rm:\n",
    "    print(\"Answer: With 0\")\n",
    "elif rm < r0:\n",
    "    print(\"Answer: With mean\")\n",
    "else:\n",
    "    print(\"Answer: Both are equally good\")\n"
   ],
   "id": "d8687064981470b5",
   "outputs": [
    {
     "name": "stdout",
     "output_type": "stream",
     "text": [
      "Answer: With mean\n"
     ]
    }
   ],
   "execution_count": 17
  },
  {
   "metadata": {},
   "cell_type": "markdown",
   "source": "### Question 4. Best regularization",
   "id": "d7e5f57d235d5083"
  },
  {
   "metadata": {
    "ExecuteTime": {
     "end_time": "2025-10-06T13:01:55.281034Z",
     "start_time": "2025-10-06T13:01:55.275980Z"
    }
   },
   "cell_type": "code",
   "source": [
    "# Prepare train/val data with missing values filled as 0\n",
    "\n",
    "Xtr0 = prepare_X(df_train.fillna(0))\n",
    "Xva0 = prepare_X(df_val.fillna(0))\n",
    "\n",
    "y_train = df_train['fuel_efficiency_mpg'].values\n",
    "y_val   = df_val['fuel_efficiency_mpg'].values"
   ],
   "id": "868a027d3546916e",
   "outputs": [],
   "execution_count": 18
  },
  {
   "metadata": {
    "ExecuteTime": {
     "end_time": "2025-10-06T13:01:55.294894Z",
     "start_time": "2025-10-06T13:01:55.287345Z"
    }
   },
   "cell_type": "code",
   "source": [
    "# Train with different r values\n",
    "\n",
    "r_list = [0, 0.01, 0.1, 1, 5, 10, 100]\n",
    "results = []\n",
    "\n",
    "for r in r_list:\n",
    "    w = train_linear_regression(Xtr0, y_train, r=r)\n",
    "    y_pred = Xva0 @ w\n",
    "    score = rmse(y_val, y_pred)\n",
    "    results.append((r, round(score, 2)))\n",
    "\n",
    "print(\"Validation RMSE by r:\", results)"
   ],
   "id": "19509b8b91588ed2",
   "outputs": [
    {
     "name": "stdout",
     "output_type": "stream",
     "text": [
      "Validation RMSE by r: [(0, np.float64(0.52)), (0.01, np.float64(0.52)), (0.1, np.float64(0.52)), (1, np.float64(0.52)), (5, np.float64(0.52)), (10, np.float64(0.52)), (100, np.float64(0.52))]\n"
     ]
    }
   ],
   "execution_count": 19
  },
  {
   "metadata": {
    "ExecuteTime": {
     "end_time": "2025-10-06T13:01:55.316095Z",
     "start_time": "2025-10-06T13:01:55.310917Z"
    }
   },
   "cell_type": "code",
   "source": [
    "# Pick the best\n",
    "\n",
    "best_r = min(results, key=lambda x: (x[1], x[0]))[0]\n",
    "print(\"Best r:\", best_r)"
   ],
   "id": "2f6cf6a388268f74",
   "outputs": [
    {
     "name": "stdout",
     "output_type": "stream",
     "text": [
      "Best r: 0\n"
     ]
    }
   ],
   "execution_count": 20
  },
  {
   "metadata": {},
   "cell_type": "markdown",
   "source": "### Question 5. RMSE Standard Deviation",
   "id": "219d42be84cc7dbe"
  },
  {
   "metadata": {
    "ExecuteTime": {
     "end_time": "2025-10-06T13:01:55.357922Z",
     "start_time": "2025-10-06T13:01:55.320302Z"
    }
   },
   "cell_type": "code",
   "source": [
    "# Loop over seeds 0–9\n",
    "\n",
    "rmses = []\n",
    "\n",
    "for seed in range(10):\n",
    "    df_train, df_val, df_test = train_val_test_split(df, seed=seed)\n",
    "\n",
    "    Xtr = prepare_X(df_train.fillna(0))\n",
    "    Xva = prepare_X(df_val.fillna(0))\n",
    "\n",
    "    ytr = df_train['fuel_efficiency_mpg'].values\n",
    "    yva = df_val['fuel_efficiency_mpg'].values\n",
    "\n",
    "    w = train_linear_regression(Xtr, ytr, r=0.0)\n",
    "    y_pred = Xva @ w\n",
    "    score = rmse(yva, y_pred)\n",
    "    rmses.append(score)\n",
    "\n",
    "print(\"Validation RMSE for seeds 0–9:\", [round(s, 3) for s in rmses])"
   ],
   "id": "5612360a2ac027b4",
   "outputs": [
    {
     "name": "stdout",
     "output_type": "stream",
     "text": [
      "Validation RMSE for seeds 0–9: [np.float64(0.521), np.float64(0.522), np.float64(0.523), np.float64(0.516), np.float64(0.511), np.float64(0.529), np.float64(0.532), np.float64(0.51), np.float64(0.515), np.float64(0.513)]\n"
     ]
    }
   ],
   "execution_count": 21
  },
  {
   "metadata": {
    "ExecuteTime": {
     "end_time": "2025-10-06T13:01:55.372905Z",
     "start_time": "2025-10-06T13:01:55.369396Z"
    }
   },
   "cell_type": "code",
   "source": [
    "# Compute standard deviation\n",
    "\n",
    "std_val = round(np.std(rmses), 3)\n",
    "print(\"Standard deviation:\", std_val)"
   ],
   "id": "6c51a78688f73048",
   "outputs": [
    {
     "name": "stdout",
     "output_type": "stream",
     "text": [
      "Standard deviation: 0.007\n"
     ]
    }
   ],
   "execution_count": 22
  },
  {
   "metadata": {},
   "cell_type": "markdown",
   "source": "### Question 6. Evaluation on test",
   "id": "561b81d2b73c7ca0"
  },
  {
   "metadata": {
    "ExecuteTime": {
     "end_time": "2025-10-06T13:01:55.388017Z",
     "start_time": "2025-10-06T13:01:55.382253Z"
    }
   },
   "cell_type": "code",
   "source": [
    "# Question 6. Evaluation on test\n",
    "\n",
    "df_train, df_val, df_test = train_val_test_split(df, seed=9)"
   ],
   "id": "618e59a5e9194c40",
   "outputs": [],
   "execution_count": 23
  },
  {
   "metadata": {
    "ExecuteTime": {
     "end_time": "2025-10-06T13:01:55.397965Z",
     "start_time": "2025-10-06T13:01:55.392705Z"
    }
   },
   "cell_type": "code",
   "source": [
    "# Combine train + validation\n",
    "\n",
    "df_trainval = pd.concat([df_train, df_val], ignore_index=True)\n",
    "\n",
    "y_trainval = df_trainval['fuel_efficiency_mpg'].values\n",
    "y_test     = df_test['fuel_efficiency_mpg'].values"
   ],
   "id": "806317b200b458a3",
   "outputs": [],
   "execution_count": 24
  },
  {
   "metadata": {
    "ExecuteTime": {
     "end_time": "2025-10-06T13:01:55.407916Z",
     "start_time": "2025-10-06T13:01:55.399475Z"
    }
   },
   "cell_type": "code",
   "source": [
    "# fill NA with 0\n",
    "\n",
    "X_trainval = prepare_X(df_trainval.fillna(0))\n",
    "X_test     = prepare_X(df_test.fillna(0))"
   ],
   "id": "3e65cd193184f9e7",
   "outputs": [],
   "execution_count": 25
  },
  {
   "metadata": {
    "ExecuteTime": {
     "end_time": "2025-10-06T13:01:55.416550Z",
     "start_time": "2025-10-06T13:01:55.413501Z"
    }
   },
   "cell_type": "code",
   "source": [
    "# Train linear regression with r = 0.001\n",
    "\n",
    "w = train_linear_regression(X_trainval, y_trainval, r=0.001)"
   ],
   "id": "f0ff69f7a64ef78b",
   "outputs": [],
   "execution_count": 26
  },
  {
   "metadata": {
    "ExecuteTime": {
     "end_time": "2025-10-06T13:01:55.426860Z",
     "start_time": "2025-10-06T13:01:55.422278Z"
    }
   },
   "cell_type": "code",
   "source": [
    "# Evaluate RMSE on the test set\n",
    "\n",
    "y_pred = X_test @ w\n",
    "rmse_test = rmse(y_test, y_pred)\n",
    "print(\"Test RMSE:\", round(rmse_test, 3))"
   ],
   "id": "2128d70747b35bb5",
   "outputs": [
    {
     "name": "stdout",
     "output_type": "stream",
     "text": [
      "Test RMSE: 0.516\n"
     ]
    }
   ],
   "execution_count": 27
  },
  {
   "metadata": {
    "ExecuteTime": {
     "end_time": "2025-10-06T13:01:55.443049Z",
     "start_time": "2025-10-06T13:01:55.440345Z"
    }
   },
   "cell_type": "code",
   "source": "",
   "id": "ec9aaff0035f80",
   "outputs": [],
   "execution_count": null
  },
  {
   "metadata": {
    "ExecuteTime": {
     "end_time": "2025-10-06T13:01:55.449469Z",
     "start_time": "2025-10-06T13:01:55.447148Z"
    }
   },
   "cell_type": "code",
   "source": "",
   "id": "e3802b1816695377",
   "outputs": [],
   "execution_count": null
  }
 ],
 "metadata": {
  "kernelspec": {
   "display_name": "Python [conda env:ml-zoomcamp]",
   "language": "python",
   "name": "conda-env-ml-zoomcamp-py"
  },
  "language_info": {
   "codemirror_mode": {
    "name": "ipython",
    "version": 2
   },
   "file_extension": ".py",
   "mimetype": "text/x-python",
   "name": "python",
   "nbconvert_exporter": "python",
   "pygments_lexer": "ipython2",
   "version": "2.7.6"
  }
 },
 "nbformat": 4,
 "nbformat_minor": 5
}
